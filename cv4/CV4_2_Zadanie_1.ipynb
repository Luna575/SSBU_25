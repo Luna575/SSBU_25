{
 "cells": [
  {
   "cell_type": "markdown",
   "id": "6854f873-5d15-4d3c-a71b-8858b7de6d12",
   "metadata": {},
   "source": [
    "## Zadanie 1 (5b)\n",
    "\n",
    "V tomto zadaní budete pracovať s datasetom Heart Failure Clinical Records, ktorý obsahuje záznamy pacientov so zlyhaním srdca, zozbierané počas obdobia ich sledovania.\n",
    "\n",
    "Dataset je dostupný online: https://archive.ics.uci.edu/dataset/519/heart+failure+clinical+records\n",
    "\n",
    "Na stránke nájdete aj doplňujúce informácie o premenných, ktoré dataset obsahuje. (Odporúčam prečítať :) )\n",
    "\n",
    "**Body dostanete za odpovede na zvýraznené otázky**\n"
   ]
  },
  {
   "cell_type": "markdown",
   "id": "8af7058b-20cf-4ece-8c7f-e2f38c33e94f",
   "metadata": {},
   "source": [
    "### Úloha 1 (1b)"
   ]
  },
  {
   "cell_type": "markdown",
   "id": "8ceeaa27-3e3e-4b13-9251-2a375fc948d1",
   "metadata": {},
   "source": "Načítajte dataset do premennej `data_hf`."
  },
  {
   "metadata": {
    "ExecuteTime": {
     "end_time": "2025-03-13T07:23:41.441021Z",
     "start_time": "2025-03-13T07:23:41.393072Z"
    }
   },
   "cell_type": "code",
   "source": "# TODO\n",
   "id": "6fac61335164d6f4",
   "outputs": [
    {
     "ename": "ValueError",
     "evalue": "Invalid version number: heart+failure+clinical+records",
     "output_type": "error",
     "traceback": [
      "\u001B[1;31m---------------------------------------------------------------------------\u001B[0m",
      "\u001B[1;31mValueError\u001B[0m                                Traceback (most recent call last)",
      "File \u001B[1;32m~\\PycharmProjects\\SSBU_25\\.venv\\Lib\\site-packages\\kagglehub\\handle.py:142\u001B[0m, in \u001B[0;36mparse_dataset_handle\u001B[1;34m(handle)\u001B[0m\n\u001B[0;32m    141\u001B[0m \u001B[38;5;28;01mtry\u001B[39;00m:\n\u001B[1;32m--> 142\u001B[0m     version \u001B[38;5;241m=\u001B[39m \u001B[38;5;28;43mint\u001B[39;49m\u001B[43m(\u001B[49m\u001B[43mparts\u001B[49m\u001B[43m[\u001B[49m\u001B[38;5;241;43m3\u001B[39;49m\u001B[43m]\u001B[49m\u001B[43m)\u001B[49m\n\u001B[0;32m    143\u001B[0m \u001B[38;5;28;01mexcept\u001B[39;00m \u001B[38;5;167;01mValueError\u001B[39;00m \u001B[38;5;28;01mas\u001B[39;00m err:\n",
      "\u001B[1;31mValueError\u001B[0m: invalid literal for int() with base 10: 'heart+failure+clinical+records'",
      "\nThe above exception was the direct cause of the following exception:\n",
      "\u001B[1;31mValueError\u001B[0m                                Traceback (most recent call last)",
      "Cell \u001B[1;32mIn[5], line 5\u001B[0m\n\u001B[0;32m      3\u001B[0m \u001B[38;5;28;01mimport\u001B[39;00m\u001B[38;5;250m \u001B[39m\u001B[38;5;21;01mkagglehub\u001B[39;00m\n\u001B[0;32m      4\u001B[0m \u001B[38;5;28;01mimport\u001B[39;00m\u001B[38;5;250m \u001B[39m\u001B[38;5;21;01mpandas\u001B[39;00m\u001B[38;5;250m \u001B[39m\u001B[38;5;28;01mas\u001B[39;00m\u001B[38;5;250m \u001B[39m\u001B[38;5;21;01mpd\u001B[39;00m\n\u001B[1;32m----> 5\u001B[0m data_path \u001B[38;5;241m=\u001B[39m \u001B[43mkagglehub\u001B[49m\u001B[38;5;241;43m.\u001B[39;49m\u001B[43mdataset_download\u001B[49m\u001B[43m(\u001B[49m\u001B[38;5;124;43m\"\u001B[39;49m\u001B[38;5;124;43marchive.ics.uci.edu/dataset/519/heart+failure+clinical+records\u001B[39;49m\u001B[38;5;124;43m\"\u001B[39;49m\u001B[43m)\u001B[49m\n\u001B[0;32m      8\u001B[0m \u001B[38;5;66;03m#dataset_name = os.path.join(dataset_path, \"Impact_of_Remote_Work_on_Mental_Health.csv\")\u001B[39;00m\n\u001B[0;32m      9\u001B[0m \n\u001B[0;32m     10\u001B[0m \u001B[38;5;66;03m#data_hf = pd.read_csv(dataset_name)\u001B[39;00m\n",
      "File \u001B[1;32m~\\PycharmProjects\\SSBU_25\\.venv\\Lib\\site-packages\\kagglehub\\datasets.py:33\u001B[0m, in \u001B[0;36mdataset_download\u001B[1;34m(handle, path, force_download)\u001B[0m\n\u001B[0;32m     24\u001B[0m \u001B[38;5;28;01mdef\u001B[39;00m\u001B[38;5;250m \u001B[39m\u001B[38;5;21mdataset_download\u001B[39m(handle: \u001B[38;5;28mstr\u001B[39m, path: Optional[\u001B[38;5;28mstr\u001B[39m] \u001B[38;5;241m=\u001B[39m \u001B[38;5;28;01mNone\u001B[39;00m, \u001B[38;5;241m*\u001B[39m, force_download: Optional[\u001B[38;5;28mbool\u001B[39m] \u001B[38;5;241m=\u001B[39m \u001B[38;5;28;01mFalse\u001B[39;00m) \u001B[38;5;241m-\u001B[39m\u001B[38;5;241m>\u001B[39m \u001B[38;5;28mstr\u001B[39m:\n\u001B[0;32m     25\u001B[0m \u001B[38;5;250m    \u001B[39m\u001B[38;5;124;03m\"\"\"Download dataset files\u001B[39;00m\n\u001B[0;32m     26\u001B[0m \u001B[38;5;124;03m    Args:\u001B[39;00m\n\u001B[0;32m     27\u001B[0m \u001B[38;5;124;03m        handle: (string) the dataset handle\u001B[39;00m\n\u001B[1;32m   (...)\u001B[0m\n\u001B[0;32m     31\u001B[0m \u001B[38;5;124;03m        A string requesting the path to the requested dataset files.\u001B[39;00m\n\u001B[0;32m     32\u001B[0m \u001B[38;5;124;03m    \"\"\"\u001B[39;00m\n\u001B[1;32m---> 33\u001B[0m     h \u001B[38;5;241m=\u001B[39m \u001B[43mparse_dataset_handle\u001B[49m\u001B[43m(\u001B[49m\u001B[43mhandle\u001B[49m\u001B[43m)\u001B[49m\n\u001B[0;32m     34\u001B[0m     logger\u001B[38;5;241m.\u001B[39minfo(\u001B[38;5;124mf\u001B[39m\u001B[38;5;124m\"\u001B[39m\u001B[38;5;124mDownloading Dataset: \u001B[39m\u001B[38;5;132;01m{\u001B[39;00mh\u001B[38;5;241m.\u001B[39mto_url()\u001B[38;5;132;01m}\u001B[39;00m\u001B[38;5;124m ...\u001B[39m\u001B[38;5;124m\"\u001B[39m, extra\u001B[38;5;241m=\u001B[39m{\u001B[38;5;241m*\u001B[39m\u001B[38;5;241m*\u001B[39mEXTRA_CONSOLE_BLOCK})\n\u001B[0;32m     35\u001B[0m     path, _ \u001B[38;5;241m=\u001B[39m registry\u001B[38;5;241m.\u001B[39mdataset_resolver(h, path, force_download\u001B[38;5;241m=\u001B[39mforce_download)\n",
      "File \u001B[1;32m~\\PycharmProjects\\SSBU_25\\.venv\\Lib\\site-packages\\kagglehub\\handle.py:145\u001B[0m, in \u001B[0;36mparse_dataset_handle\u001B[1;34m(handle)\u001B[0m\n\u001B[0;32m    143\u001B[0m     \u001B[38;5;28;01mexcept\u001B[39;00m \u001B[38;5;167;01mValueError\u001B[39;00m \u001B[38;5;28;01mas\u001B[39;00m err:\n\u001B[0;32m    144\u001B[0m         msg \u001B[38;5;241m=\u001B[39m \u001B[38;5;124mf\u001B[39m\u001B[38;5;124m\"\u001B[39m\u001B[38;5;124mInvalid version number: \u001B[39m\u001B[38;5;132;01m{\u001B[39;00mparts[\u001B[38;5;241m3\u001B[39m]\u001B[38;5;132;01m}\u001B[39;00m\u001B[38;5;124m\"\u001B[39m\n\u001B[1;32m--> 145\u001B[0m         \u001B[38;5;28;01mraise\u001B[39;00m \u001B[38;5;167;01mValueError\u001B[39;00m(msg) \u001B[38;5;28;01mfrom\u001B[39;00m\u001B[38;5;250m \u001B[39m\u001B[38;5;21;01merr\u001B[39;00m\n\u001B[0;32m    146\u001B[0m     \u001B[38;5;28;01mreturn\u001B[39;00m DatasetHandle(\n\u001B[0;32m    147\u001B[0m         owner\u001B[38;5;241m=\u001B[39mparts[\u001B[38;5;241m0\u001B[39m],\n\u001B[0;32m    148\u001B[0m         dataset\u001B[38;5;241m=\u001B[39mparts[\u001B[38;5;241m1\u001B[39m],\n\u001B[0;32m    149\u001B[0m         version\u001B[38;5;241m=\u001B[39mversion,\n\u001B[0;32m    150\u001B[0m     )\n\u001B[0;32m    151\u001B[0m \u001B[38;5;28;01melif\u001B[39;00m \u001B[38;5;28mlen\u001B[39m(parts) \u001B[38;5;241m==\u001B[39m NUM_UNVERSIONED_DATASET_PARTS:\n\u001B[0;32m    152\u001B[0m     \u001B[38;5;66;03m# Unversioned handle\u001B[39;00m\n\u001B[0;32m    153\u001B[0m     \u001B[38;5;66;03m# e.g.: <owner>/<dataset>\u001B[39;00m\n",
      "\u001B[1;31mValueError\u001B[0m: Invalid version number: heart+failure+clinical+records"
     ]
    }
   ],
   "execution_count": 5
  },
  {
   "cell_type": "markdown",
   "id": "31431105-076e-45cb-b601-024fb88968ca",
   "metadata": {},
   "source": [
    "   **Obsahuje dataset chýbajúce hodnoty (NA) ?**"
   ]
  },
  {
   "cell_type": "raw",
   "id": "87207cc0-87e1-44fc-907a-00d090224c04",
   "metadata": {},
   "source": "# TODO"
  },
  {
   "cell_type": "markdown",
   "id": "0758892b-bfa0-490f-8da2-958df68ad526",
   "metadata": {},
   "source": [
    "**Aký typ majú vybrané premenné v datasete ? (numerické/kategorické)** (Ak by ste si pri niektorých premenných neboli istí, zdôvodnite svoju odpoveď.)\n",
    "\n",
    "- age\n",
    "- anaemia \n",
    "- high_blood_pressure\n",
    "- serum_sodium\n",
    "- death_event"
   ]
  },
  {
   "cell_type": "raw",
   "id": "7edd44a4-9bce-472e-88cc-1bae5b5c8443",
   "metadata": {},
   "source": "# TODO"
  },
  {
   "cell_type": "markdown",
   "id": "22304314-9212-490d-a44b-62c2412888a9",
   "metadata": {},
   "source": [
    "**Obsahuje dataset duplicitné záznamy?**"
   ]
  },
  {
   "cell_type": "raw",
   "id": "a9e6f530-ac31-4c07-b88c-e8125a423097",
   "metadata": {},
   "source": "# TODO"
  },
  {
   "cell_type": "markdown",
   "id": "96a14512-f20f-499c-8398-d7cd3e6d1289",
   "metadata": {},
   "source": [
    "### Úloha 2 (1b)\n",
    "\n",
    "Skúmajte premennú pohlavie ('sex'). Premenná je kódovaná hodnotami 0 a 1. ( 0 = žena, 1 = muž)"
   ]
  },
  {
   "metadata": {},
   "cell_type": "code",
   "source": "# TODO",
   "id": "97c7494317e7c82e",
   "outputs": [],
   "execution_count": null
  },
  {
   "cell_type": "markdown",
   "id": "d7789c28-0857-4a4b-b89e-6bfc9569191f",
   "metadata": {},
   "source": [
    "**Koľko záznamov mužov a žien obsahuje dataset?**"
   ]
  },
  {
   "cell_type": "raw",
   "id": "b52c7e12-3a4f-4b97-a98c-e6d2e42080a2",
   "metadata": {},
   "source": "# TODO"
  },
  {
   "cell_type": "markdown",
   "id": "4f9085d2-e941-422b-b7f8-5708c0cdce73",
   "metadata": {},
   "source": [
    "**Koľko mužov a žien je nefajčiarov ? (0 = nefajčiar, 1 = fajčiar)**"
   ]
  },
  {
   "cell_type": "raw",
   "id": "6516093e-72d8-46ab-9fb6-6aaceead23a0",
   "metadata": {},
   "source": "# TODO"
  },
  {
   "cell_type": "markdown",
   "id": "ba365496-6912-408d-bcfc-a7f2993c148e",
   "metadata": {},
   "source": [
    "### Úloha 3 (1b)\n",
    "\n",
    "Popíšte premennú vek ('age')."
   ]
  },
  {
   "metadata": {},
   "cell_type": "code",
   "source": "# TODO",
   "id": "d496c96bba90d2b8",
   "outputs": [],
   "execution_count": null
  },
  {
   "cell_type": "markdown",
   "id": "fb2d9df9-7a57-414c-a13f-095acc8bb550",
   "metadata": {},
   "source": [
    "**Aký je minimálny, maximálny a priemerný vek pacientov v datasete?**"
   ]
  },
  {
   "cell_type": "raw",
   "id": "08599e0e-d183-4b31-a224-8f1288bcc12b",
   "metadata": {},
   "source": [
    "# TODO"
   ]
  },
  {
   "cell_type": "markdown",
   "id": "65cf63d5-1b33-4d5e-9ce3-c99b01c2f588",
   "metadata": {},
   "source": [
    "**Z akého veku je v datasete najviac záznamov?**"
   ]
  },
  {
   "cell_type": "raw",
   "id": "33ffe607-c8ad-4368-a0ad-5de841c5851a",
   "metadata": {},
   "source": [
    "# TODO"
   ]
  },
  {
   "cell_type": "markdown",
   "id": "6b93d9ab-556a-446f-a880-a5ab7743a96a",
   "metadata": {},
   "source": [
    "### Úloha 4 (1b)\n",
    "\n",
    "Pridajte do datasetu novú premennú s názvom `risk`, ktorá bude predstavovať riziko úmrtia pacienta po zlyhaní srdca. Táto premenná bude kategorická a bude obsahovať hodnoty 'Low' a 'High'. \n",
    "Premennú vytvorte na základe if-else rozhodovania podľa premenných 'age' a 'serum_creatinine':\n",
    "\n",
    "- Ak je vek pacienta väčší ako 50 a zároveň level kreatinínu v krvnom sére ('serum_creatinine') je väčší ako 1.2 mg/dL, tak hodnota premennej 'Risk' je 'High'.\n",
    "- V opačnom prípade je hodnota 'Low'\n",
    "\n",
    "Hint: môžete použiť metódu `apply` na vytvorenie novej premennej, v ktorej použijete lambda funkciu na definovanie podmienok."
   ]
  },
  {
   "metadata": {},
   "cell_type": "code",
   "source": [
    "import matplotlib.pyplot as plt\n",
    "# Add the 'risk' variable\n",
    "data_hw['risk'] = data_hw.apply(lambda row: 'High' if row['age'] > 50 and row['serum_creatinine'] > 1.2 else 'Low', axis=1)\n",
    "\n",
    "# Visualize high risk by age\n",
    "\n",
    "\n",
    "high_risk = data_hw[data_hw['risk'] == 'High']\n",
    "plt.hist(high_risk['age'], bins='auto')\n",
    "plt.title('High Risk by Age')\n",
    "plt.xlabel('Age')\n",
    "plt.ylabel('Frequency')\n",
    "plt.show()"
   ],
   "id": "7188f1a6042ef8a3",
   "outputs": [],
   "execution_count": null
  },
  {
   "metadata": {},
   "cell_type": "markdown",
   "source": [
    "Vizualizujte vysoké riziko úmrtia pre jednotlivé vekové skupiny histogramom:\n",
    "\n",
    "Hint: Použite metódu `hist` z knižnice `matplotlib.pyplot` na vizualizáciu distribúcie veku pre pacientov s vysokým rizikom úmrtia."
   ],
   "id": "8b379949ee966138"
  },
  {
   "metadata": {},
   "cell_type": "code",
   "source": "# TODO",
   "id": "21d1661714154e7e",
   "outputs": [],
   "execution_count": null
  },
  {
   "cell_type": "markdown",
   "id": "beb9312b-dd82-46bb-89b0-ccb6dd2b8106",
   "metadata": {},
   "source": [
    "**V akom veku je riziko zlyhania srdca najväčšie?**"
   ]
  },
  {
   "cell_type": "raw",
   "id": "f7fac42f-41e9-4243-ae91-8bbb5b3d8f27",
   "metadata": {},
   "source": [
    "# TODO"
   ]
  },
  {
   "cell_type": "markdown",
   "id": "9ba90f86-6bdb-4f53-9c45-7284ff510535",
   "metadata": {},
   "source": [
    "**Koľko záznamov (približne) je v datasete v tejto vekovej kategórii?**"
   ]
  },
  {
   "cell_type": "raw",
   "id": "c71eec00-b410-42fa-89f5-788a2671be60",
   "metadata": {},
   "source": [
    "# TODO"
   ]
  },
  {
   "cell_type": "markdown",
   "id": "f5c0ddad-7e6c-4726-b729-3cfb349ee0b8",
   "metadata": {},
   "source": [
    "### Úloha 5 (1b)\n",
    "\n",
    "Analyzujte koreláciu medzi všetkými atribútmi tohto datasetu (napr. vytvorením correlation plot)\n",
    "\n",
    "Hint: Nenumerické atribúty môžete pred vytvorením korelačnej matice odstrániť.\n"
   ]
  },
  {
   "metadata": {},
   "cell_type": "code",
   "source": "# TODO",
   "id": "2aa5690bac0652c8",
   "outputs": [],
   "execution_count": null
  },
  {
   "cell_type": "markdown",
   "id": "7964b789-3e0c-4478-a270-028d98af3994",
   "metadata": {},
   "source": [
    "**Ktoré atribúty majú medzi sebou najväčšiu zápornú koreláciu?** (uveďte prvé dve dvojice)"
   ]
  },
  {
   "cell_type": "raw",
   "id": "5f1781b1-32f1-442e-91bf-82aefbae6dde",
   "metadata": {},
   "source": [
    "# TODO"
   ]
  },
  {
   "cell_type": "markdown",
   "id": "45ccd281-4c3a-437b-9fea-a8433d6145ea",
   "metadata": {},
   "source": [
    "**Ktoré atribúty majú medzi sebou najväčšiu kladnú koreláciu?** (uveďte prvú dvojicu)"
   ]
  },
  {
   "cell_type": "raw",
   "id": "d6304b62-d65f-412e-bc2c-f57219a910d9",
   "metadata": {},
   "source": [
    "# TODO"
   ]
  },
  {
   "cell_type": "markdown",
   "id": "4afda479-3c32-4956-b59f-c53c450a42ba",
   "metadata": {},
   "source": [
    "----\n",
    "\n",
    "Viac informácií o zlyhaní srdca: https://www.nhlbi.nih.gov/health/heart-failure"
   ]
  }
 ],
 "metadata": {
  "kernelspec": {
   "display_name": "Python 3 (ipykernel)",
   "language": "python",
   "name": "python3"
  },
  "language_info": {
   "codemirror_mode": "r",
   "file_extension": ".r",
   "mimetype": "text/x-r-source",
   "name": "R",
   "pygments_lexer": "r",
   "version": "4.3.2"
  }
 },
 "nbformat": 4,
 "nbformat_minor": 5
}
